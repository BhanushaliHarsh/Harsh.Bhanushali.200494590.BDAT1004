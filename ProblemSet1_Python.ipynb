{
 "cells": [
  {
   "cell_type": "code",
   "execution_count": 2,
   "id": "2f8c32bc",
   "metadata": {},
   "outputs": [
    {
     "name": "stdout",
     "output_type": "stream",
     "text": [
      "enter the word Hello\n",
      "elloHay\n"
     ]
    }
   ],
   "source": [
    "#Q6\n",
    "def pig(character):\n",
    "    listForVowels = [\"a\",\"e\",\"i\",\"o\",\"u\"]                       #initialize list of vowels\n",
    "    if(character in listForVowels):\n",
    "        return True\n",
    "    else:\n",
    "        return False\n",
    "\n",
    "word = input(\"enter the word \")\n",
    "word.lower()                                            #all to lower case\n",
    "Letter = word[0]                                         #selecting the first letter\n",
    "if(pig(Letter)):\n",
    "    print(word.lower() + \"way\")\n",
    "else:\n",
    "    print(word[1:] + Letter + \"ay\")"
   ]
  },
  {
   "cell_type": "code",
   "execution_count": 4,
   "id": "9491bf92",
   "metadata": {},
   "outputs": [
    {
     "name": "stdout",
     "output_type": "stream",
     "text": [
      "number of patients for blood type AB 13\n",
      "number of patients for blood type B 1\n",
      "number of patients for blood type O 15\n",
      "number of patients for blood type A 15\n"
     ]
    }
   ],
   "source": [
    "#Q7\n",
    "def bloodtype(blood):\n",
    "    blood_typ = blood.split(' ')\n",
    "    count = dict()                                  #defining a dictionary\n",
    "    for type in blood_typ:\n",
    "        if type in count:\n",
    "            count[type] += 1                       # increasing the value by 1\n",
    "        else:\n",
    "            count[type] = 1                       #intro new key and a\n",
    "    for type,num in count.items():\n",
    "        print('number of patients for blood type',type,num)\n",
    "with open(r'C:\\Users\\harsh\\bloodtype1.txt') as f:\n",
    "    lines = f.readlines()\n",
    "lines[-1] = lines[-1].strip()                         #removing /n\n",
    "str = \"\"\n",
    "for lit in lines:\n",
    "    str += lit\n",
    "bloodtype(str)"
   ]
  },
  {
   "cell_type": "code",
   "execution_count": 5,
   "id": "55765bf1",
   "metadata": {},
   "outputs": [],
   "source": [
    "#Q8\n",
    "import numpy as np\n",
    "import pandas as pd"
   ]
  },
  {
   "cell_type": "code",
   "execution_count": 6,
   "id": "403530e4",
   "metadata": {},
   "outputs": [],
   "source": [
    "with open(r'C:\\Users\\harsh\\currencies.txt', 'r') as f:\n",
    "    contents = f.readlines()      "
   ]
  },
  {
   "cell_type": "code",
   "execution_count": 7,
   "id": "baaab058",
   "metadata": {},
   "outputs": [
    {
     "data": {
      "text/plain": [
       "'AUD\\t1.0345157\\tAustralian Dollar\\n'"
      ]
     },
     "execution_count": 7,
     "metadata": {},
     "output_type": "execute_result"
    }
   ],
   "source": [
    "contents[0]"
   ]
  },
  {
   "cell_type": "code",
   "execution_count": 8,
   "id": "d6787604",
   "metadata": {},
   "outputs": [],
   "source": [
    "for i in range(len(contents)):                           #removing spaces and newlines\n",
    "    contents[i] = contents[i].split('\\t')\n",
    "    contents[i][2] = contents[i][2].replace('\\n', '')"
   ]
  },
  {
   "cell_type": "code",
   "execution_count": 9,
   "id": "55504405",
   "metadata": {},
   "outputs": [
    {
     "data": {
      "text/html": [
       "<div>\n",
       "<style scoped>\n",
       "    .dataframe tbody tr th:only-of-type {\n",
       "        vertical-align: middle;\n",
       "    }\n",
       "\n",
       "    .dataframe tbody tr th {\n",
       "        vertical-align: top;\n",
       "    }\n",
       "\n",
       "    .dataframe thead th {\n",
       "        text-align: right;\n",
       "    }\n",
       "</style>\n",
       "<table border=\"1\" class=\"dataframe\">\n",
       "  <thead>\n",
       "    <tr style=\"text-align: right;\">\n",
       "      <th></th>\n",
       "      <th>0</th>\n",
       "      <th>1</th>\n",
       "      <th>2</th>\n",
       "    </tr>\n",
       "  </thead>\n",
       "  <tbody>\n",
       "    <tr>\n",
       "      <th>0</th>\n",
       "      <td>AUD</td>\n",
       "      <td>1.0345157</td>\n",
       "      <td>Australian Dollar</td>\n",
       "    </tr>\n",
       "    <tr>\n",
       "      <th>1</th>\n",
       "      <td>CHF</td>\n",
       "      <td>1.0237414</td>\n",
       "      <td>Swiss Franc</td>\n",
       "    </tr>\n",
       "    <tr>\n",
       "      <th>2</th>\n",
       "      <td>CNY</td>\n",
       "      <td>0.1550176</td>\n",
       "      <td>Chinese Yuan</td>\n",
       "    </tr>\n",
       "    <tr>\n",
       "      <th>3</th>\n",
       "      <td>DKK</td>\n",
       "      <td>0.1651442</td>\n",
       "      <td>Danish Krone</td>\n",
       "    </tr>\n",
       "    <tr>\n",
       "      <th>4</th>\n",
       "      <td>EUR</td>\n",
       "      <td>1.2296544</td>\n",
       "      <td>Euro</td>\n",
       "    </tr>\n",
       "    <tr>\n",
       "      <th>5</th>\n",
       "      <td>GBP</td>\n",
       "      <td>1.5550989</td>\n",
       "      <td>British Pound</td>\n",
       "    </tr>\n",
       "    <tr>\n",
       "      <th>6</th>\n",
       "      <td>HKD</td>\n",
       "      <td>0.1270207</td>\n",
       "      <td>Hong Kong Dollar</td>\n",
       "    </tr>\n",
       "    <tr>\n",
       "      <th>7</th>\n",
       "      <td>INR</td>\n",
       "      <td>0.0177643</td>\n",
       "      <td>Indian Rupee</td>\n",
       "    </tr>\n",
       "    <tr>\n",
       "      <th>8</th>\n",
       "      <td>JPY</td>\n",
       "      <td>0.01241401</td>\n",
       "      <td>Japanese Yen</td>\n",
       "    </tr>\n",
       "    <tr>\n",
       "      <th>9</th>\n",
       "      <td>MXN</td>\n",
       "      <td>0.0751848</td>\n",
       "      <td>Mexican Peso</td>\n",
       "    </tr>\n",
       "    <tr>\n",
       "      <th>10</th>\n",
       "      <td>MYR</td>\n",
       "      <td>0.3145411</td>\n",
       "      <td>Malaysian Ringgit</td>\n",
       "    </tr>\n",
       "    <tr>\n",
       "      <th>11</th>\n",
       "      <td>NOK</td>\n",
       "      <td>0.1677063</td>\n",
       "      <td>Norwegian Krone</td>\n",
       "    </tr>\n",
       "    <tr>\n",
       "      <th>12</th>\n",
       "      <td>NZD</td>\n",
       "      <td>0.8003591</td>\n",
       "      <td>New Zealand Dollar</td>\n",
       "    </tr>\n",
       "    <tr>\n",
       "      <th>13</th>\n",
       "      <td>PHP</td>\n",
       "      <td>0.0233234</td>\n",
       "      <td>Philippine Peso</td>\n",
       "    </tr>\n",
       "    <tr>\n",
       "      <th>14</th>\n",
       "      <td>SEK</td>\n",
       "      <td>0.148269</td>\n",
       "      <td>Swedish Krona</td>\n",
       "    </tr>\n",
       "    <tr>\n",
       "      <th>15</th>\n",
       "      <td>SGD</td>\n",
       "      <td>0.788871</td>\n",
       "      <td>Singapore Dollar</td>\n",
       "    </tr>\n",
       "    <tr>\n",
       "      <th>16</th>\n",
       "      <td>THB</td>\n",
       "      <td>0.0313789</td>\n",
       "      <td>Thai Baht</td>\n",
       "    </tr>\n",
       "  </tbody>\n",
       "</table>\n",
       "</div>"
      ],
      "text/plain": [
       "      0           1                   2\n",
       "0   AUD   1.0345157   Australian Dollar\n",
       "1   CHF   1.0237414         Swiss Franc\n",
       "2   CNY   0.1550176        Chinese Yuan\n",
       "3   DKK   0.1651442        Danish Krone\n",
       "4   EUR   1.2296544                Euro\n",
       "5   GBP   1.5550989       British Pound\n",
       "6   HKD   0.1270207    Hong Kong Dollar\n",
       "7   INR   0.0177643        Indian Rupee\n",
       "8   JPY  0.01241401        Japanese Yen\n",
       "9   MXN   0.0751848        Mexican Peso\n",
       "10  MYR   0.3145411   Malaysian Ringgit\n",
       "11  NOK   0.1677063     Norwegian Krone\n",
       "12  NZD   0.8003591  New Zealand Dollar\n",
       "13  PHP   0.0233234     Philippine Peso\n",
       "14  SEK    0.148269       Swedish Krona\n",
       "15  SGD    0.788871    Singapore Dollar\n",
       "16  THB   0.0313789           Thai Baht"
      ]
     },
     "execution_count": 9,
     "metadata": {},
     "output_type": "execute_result"
    }
   ],
   "source": [
    "contents = pd.DataFrame(contents)\n",
    "contents"
   ]
  },
  {
   "cell_type": "code",
   "execution_count": 13,
   "id": "2b140304",
   "metadata": {},
   "outputs": [],
   "source": [
    "contents = contents.iloc[:,[0,1]]"
   ]
  },
  {
   "cell_type": "code",
   "execution_count": 14,
   "id": "ca61a2ea",
   "metadata": {},
   "outputs": [],
   "source": [
    "for i in range(len(contents)):\n",
    "    contents[1][i] = float(contents[1][i])"
   ]
  },
  {
   "cell_type": "code",
   "execution_count": 15,
   "id": "e4c7bb90",
   "metadata": {},
   "outputs": [
    {
     "data": {
      "text/plain": [
       "dict"
      ]
     },
     "execution_count": 15,
     "metadata": {},
     "output_type": "execute_result"
    }
   ],
   "source": [
    "dict"
   ]
  },
  {
   "cell_type": "code",
   "execution_count": 16,
   "id": "059ef25d",
   "metadata": {},
   "outputs": [],
   "source": [
    "arr1= np.array(contents.iloc[:,0])             \n",
    "arr2 = np.array(contents.iloc[:,1])"
   ]
  },
  {
   "cell_type": "code",
   "execution_count": 17,
   "id": "d3d4674c",
   "metadata": {},
   "outputs": [
    {
     "data": {
      "text/plain": [
       "numpy.ndarray"
      ]
     },
     "execution_count": 17,
     "metadata": {},
     "output_type": "execute_result"
    }
   ],
   "source": [
    "type(arr2)"
   ]
  },
  {
   "cell_type": "code",
   "execution_count": 18,
   "id": "4c236999",
   "metadata": {},
   "outputs": [],
   "source": [
    "dict = {}\n",
    "for i, j in zip(arr1,arr2):             #key value pairs in dictionary\n",
    "    dict[i]= j"
   ]
  },
  {
   "cell_type": "code",
   "execution_count": 19,
   "id": "f4ed98ca",
   "metadata": {},
   "outputs": [],
   "source": [
    "def exchange(symbol, rate):\n",
    "    for i in dict:\n",
    "        if i == symbol:                             #finding the currency\n",
    "            multiplier = dict[i]\n",
    "            return(rate*multiplier)"
   ]
  },
  {
   "cell_type": "code",
   "execution_count": 20,
   "id": "1272a9c8",
   "metadata": {},
   "outputs": [
    {
     "data": {
      "text/plain": [
       "1.241401"
      ]
     },
     "execution_count": 20,
     "metadata": {},
     "output_type": "execute_result"
    }
   ],
   "source": [
    "exchange('JPY',100)"
   ]
  },
  {
   "cell_type": "code",
   "execution_count": 21,
   "id": "b4253f5f",
   "metadata": {},
   "outputs": [
    {
     "name": "stdout",
     "output_type": "stream",
     "text": [
      "Please enter the symbol: INR\n",
      "Please enter the amount you want to convert: 20000\n"
     ]
    }
   ],
   "source": [
    "a = input(\"Please enter the symbol: \")\n",
    "b = float(input(\"Please enter the amount you want to convert: \"))"
   ]
  },
  {
   "cell_type": "code",
   "execution_count": 22,
   "id": "10ea1aae",
   "metadata": {},
   "outputs": [
    {
     "name": "stdout",
     "output_type": "stream",
     "text": [
      "355.286\n"
     ]
    }
   ],
   "source": [
    "print(exchange(a,b))"
   ]
  },
  {
   "cell_type": "code",
   "execution_count": 23,
   "id": "6eae4e49",
   "metadata": {},
   "outputs": [
    {
     "ename": "TypeError",
     "evalue": "unsupported operand type(s) for +: 'int' and 'list'",
     "output_type": "error",
     "traceback": [
      "\u001b[1;31m---------------------------------------------------------------------------\u001b[0m",
      "\u001b[1;31mTypeError\u001b[0m                                 Traceback (most recent call last)",
      "\u001b[1;32m<ipython-input-23-5d1a97579190>\u001b[0m in \u001b[0;36m<module>\u001b[1;34m\u001b[0m\n\u001b[1;32m----> 1\u001b[1;33m \u001b[0ma\u001b[0m\u001b[1;33m=\u001b[0m \u001b[1;36m6\u001b[0m \u001b[1;33m+\u001b[0m \u001b[1;33m[\u001b[0m\u001b[1;36m1\u001b[0m\u001b[1;33m,\u001b[0m\u001b[1;36m2\u001b[0m\u001b[1;33m,\u001b[0m\u001b[1;36m3\u001b[0m\u001b[1;33m]\u001b[0m\u001b[1;33m\u001b[0m\u001b[1;33m\u001b[0m\u001b[0m\n\u001b[0m",
      "\u001b[1;31mTypeError\u001b[0m: unsupported operand type(s) for +: 'int' and 'list'"
     ]
    }
   ],
   "source": [
    "#Q9\n",
    "a= 6 + [1,2,3]"
   ]
  },
  {
   "cell_type": "markdown",
   "id": "87681032",
   "metadata": {},
   "source": [
    "TypeError: unsupported operand type(s) for +: 'int' and 'list'"
   ]
  },
  {
   "cell_type": "code",
   "execution_count": 24,
   "id": "c129257d",
   "metadata": {},
   "outputs": [
    {
     "ename": "IndexError",
     "evalue": "list index out of range",
     "output_type": "error",
     "traceback": [
      "\u001b[1;31m---------------------------------------------------------------------------\u001b[0m",
      "\u001b[1;31mIndexError\u001b[0m                                Traceback (most recent call last)",
      "\u001b[1;32m<ipython-input-24-14402ed33f13>\u001b[0m in \u001b[0;36m<module>\u001b[1;34m\u001b[0m\n\u001b[0;32m      1\u001b[0m \u001b[0ml\u001b[0m \u001b[1;33m=\u001b[0m \u001b[1;33m[\u001b[0m\u001b[1;36m0\u001b[0m\u001b[1;33m,\u001b[0m\u001b[1;36m1\u001b[0m\u001b[1;33m,\u001b[0m\u001b[1;36m2\u001b[0m\u001b[1;33m,\u001b[0m\u001b[1;36m3\u001b[0m\u001b[1;33m,\u001b[0m\u001b[1;36m4\u001b[0m\u001b[1;33m,\u001b[0m\u001b[1;36m5\u001b[0m\u001b[1;33m,\u001b[0m\u001b[1;36m6\u001b[0m\u001b[1;33m,\u001b[0m\u001b[1;36m7\u001b[0m\u001b[1;33m,\u001b[0m\u001b[1;36m8\u001b[0m\u001b[1;33m,\u001b[0m\u001b[1;36m9\u001b[0m\u001b[1;33m,\u001b[0m\u001b[1;36m10\u001b[0m\u001b[1;33m]\u001b[0m\u001b[1;33m\u001b[0m\u001b[1;33m\u001b[0m\u001b[0m\n\u001b[1;32m----> 2\u001b[1;33m \u001b[0mprint\u001b[0m\u001b[1;33m(\u001b[0m\u001b[0ml\u001b[0m\u001b[1;33m[\u001b[0m\u001b[1;36m11\u001b[0m\u001b[1;33m]\u001b[0m\u001b[1;33m)\u001b[0m\u001b[1;33m\u001b[0m\u001b[1;33m\u001b[0m\u001b[0m\n\u001b[0m",
      "\u001b[1;31mIndexError\u001b[0m: list index out of range"
     ]
    }
   ],
   "source": [
    "l = [0,1,2,3,4,5,6,7,8,9,10]\n",
    "print(l[11])"
   ]
  },
  {
   "cell_type": "markdown",
   "id": "11202ff1",
   "metadata": {},
   "source": [
    "IndexError: list index out of range"
   ]
  },
  {
   "cell_type": "code",
   "execution_count": 25,
   "id": "95de5200",
   "metadata": {},
   "outputs": [
    {
     "ename": "ValueError",
     "evalue": "math domain error",
     "output_type": "error",
     "traceback": [
      "\u001b[1;31m---------------------------------------------------------------------------\u001b[0m",
      "\u001b[1;31mValueError\u001b[0m                                Traceback (most recent call last)",
      "\u001b[1;32m<ipython-input-25-166217ba371e>\u001b[0m in \u001b[0;36m<module>\u001b[1;34m\u001b[0m\n\u001b[0;32m      1\u001b[0m \u001b[1;32mimport\u001b[0m \u001b[0mmath\u001b[0m\u001b[1;33m\u001b[0m\u001b[1;33m\u001b[0m\u001b[0m\n\u001b[1;32m----> 2\u001b[1;33m \u001b[0mmath\u001b[0m\u001b[1;33m.\u001b[0m\u001b[0msqrt\u001b[0m\u001b[1;33m(\u001b[0m\u001b[1;33m-\u001b[0m\u001b[1;36m.001\u001b[0m\u001b[1;33m)\u001b[0m\u001b[1;33m\u001b[0m\u001b[1;33m\u001b[0m\u001b[0m\n\u001b[0m",
      "\u001b[1;31mValueError\u001b[0m: math domain error"
     ]
    }
   ],
   "source": [
    "import math\n",
    "math.sqrt(-.001)"
   ]
  },
  {
   "cell_type": "markdown",
   "id": "6600af01",
   "metadata": {},
   "source": [
    "ValueError: math domain error"
   ]
  },
  {
   "cell_type": "code",
   "execution_count": 26,
   "id": "3f2ff88f",
   "metadata": {},
   "outputs": [
    {
     "ename": "NameError",
     "evalue": "name 'e' is not defined",
     "output_type": "error",
     "traceback": [
      "\u001b[1;31m---------------------------------------------------------------------------\u001b[0m",
      "\u001b[1;31mNameError\u001b[0m                                 Traceback (most recent call last)",
      "\u001b[1;32m<ipython-input-26-4e5c0089b39c>\u001b[0m in \u001b[0;36m<module>\u001b[1;34m\u001b[0m\n\u001b[1;32m----> 1\u001b[1;33m \u001b[0mc\u001b[0m\u001b[1;33m=\u001b[0m\u001b[0me\u001b[0m\u001b[1;33m+\u001b[0m\u001b[0mi\u001b[0m\u001b[1;33m\u001b[0m\u001b[1;33m\u001b[0m\u001b[0m\n\u001b[0m",
      "\u001b[1;31mNameError\u001b[0m: name 'e' is not defined"
     ]
    }
   ],
   "source": [
    "c=e+i"
   ]
  },
  {
   "cell_type": "markdown",
   "id": "ce3ec6a2",
   "metadata": {},
   "source": [
    "NameError: name 'e' is not defined"
   ]
  },
  {
   "cell_type": "code",
   "execution_count": 27,
   "id": "c96e6a14",
   "metadata": {},
   "outputs": [
    {
     "ename": "FileNotFoundError",
     "evalue": "[Errno 2] No such file or directory: 'C:\\\\Users\\\\ayush\\\\ownloads\\\\currencies.txt'",
     "output_type": "error",
     "traceback": [
      "\u001b[1;31m---------------------------------------------------------------------------\u001b[0m",
      "\u001b[1;31mFileNotFoundError\u001b[0m                         Traceback (most recent call last)",
      "\u001b[1;32m<ipython-input-27-cedd0f5cd74c>\u001b[0m in \u001b[0;36m<module>\u001b[1;34m\u001b[0m\n\u001b[1;32m----> 1\u001b[1;33m \u001b[1;32mwith\u001b[0m \u001b[0mopen\u001b[0m\u001b[1;33m(\u001b[0m\u001b[1;34mr'C:\\Users\\ayush\\ownloads\\currencies.txt'\u001b[0m\u001b[1;33m,\u001b[0m \u001b[1;34m'r'\u001b[0m\u001b[1;33m)\u001b[0m \u001b[1;32mas\u001b[0m \u001b[0mf\u001b[0m\u001b[1;33m:\u001b[0m\u001b[1;33m\u001b[0m\u001b[1;33m\u001b[0m\u001b[0m\n\u001b[0m\u001b[0;32m      2\u001b[0m     \u001b[0mcontents\u001b[0m \u001b[1;33m=\u001b[0m \u001b[0mf\u001b[0m\u001b[1;33m.\u001b[0m\u001b[0mreadlines\u001b[0m\u001b[1;33m(\u001b[0m\u001b[1;33m)\u001b[0m\u001b[1;33m\u001b[0m\u001b[1;33m\u001b[0m\u001b[0m\n",
      "\u001b[1;31mFileNotFoundError\u001b[0m: [Errno 2] No such file or directory: 'C:\\\\Users\\\\ayush\\\\ownloads\\\\currencies.txt'"
     ]
    }
   ],
   "source": [
    "with open(r'C:\\Users\\ayush\\ownloads\\currencies.txt', 'r') as f:\n",
    "    contents = f.readlines()"
   ]
  },
  {
   "cell_type": "markdown",
   "id": "07bf3e31",
   "metadata": {},
   "source": [
    "FileNotFoundError: [Errno 2] No such file or directory: 'C:\\Users\\ayush\\ownloads/currencies.txt'"
   ]
  },
  {
   "cell_type": "code",
   "execution_count": 12,
   "id": "97fee31c",
   "metadata": {},
   "outputs": [
    {
     "name": "stdout",
     "output_type": "stream",
     "text": [
      "enter the stringFive\n",
      "dict_values([0, 0, 0, 0, 1, 1, 0, 0, 1, 0, 0, 0, 0, 0, 0, 0, 0, 0, 0, 0, 1, 0, 0, 0, 0, 0])\n"
     ]
    }
   ],
   "source": [
    "#Q10\n",
    "def frequencies(str1):\n",
    "    alpha = dict()                               #new dict\n",
    "    key = 'abcdefghijklmnopqrstvuwxyz'             \n",
    "    value = 0\n",
    "\n",
    "    for i in range(len(key)):\n",
    "        alpha[key[i]] = value                    #value,key pair set to initial stage a:0, b:0\n",
    "    #print(alpha)\n",
    "    for i in str1:\n",
    "        #print(i)\n",
    "        alpha[i] += 1                            #incrementing each letter as it comes\n",
    "    return(alpha.values())\n",
    "\n",
    "a = input(\"enter the string\")\n",
    "a_1 = a.lower()\n",
    "print(frequencies(a_1))"
   ]
  },
  {
   "cell_type": "code",
   "execution_count": null,
   "id": "98102201",
   "metadata": {},
   "outputs": [],
   "source": []
  }
 ],
 "metadata": {
  "kernelspec": {
   "display_name": "Python 3",
   "language": "python",
   "name": "python3"
  },
  "language_info": {
   "codemirror_mode": {
    "name": "ipython",
    "version": 3
   },
   "file_extension": ".py",
   "mimetype": "text/x-python",
   "name": "python",
   "nbconvert_exporter": "python",
   "pygments_lexer": "ipython3",
   "version": "3.8.8"
  }
 },
 "nbformat": 4,
 "nbformat_minor": 5
}
