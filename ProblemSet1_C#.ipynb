{
 "cells": [
  {
   "cell_type": "code",
   "execution_count": null,
   "id": "0b0b4e17",
   "metadata": {},
   "outputs": [],
   "source": [
    "Integer \n",
    "Floating point \n",
    "Boolean \n",
    "Character \n",
    "Integer \n",
    "Invalid String \n",
    "Floating point \n",
    "Integer \n",
    "Enumerated \n",
    "Invalid Double"
   ]
  },
  {
   "cell_type": "code",
   "execution_count": 1,
   "id": "55c7df2e",
   "metadata": {},
   "outputs": [
    {
     "name": "stdout",
     "output_type": "stream",
     "text": [
      "34\r\n"
     ]
    }
   ],
   "source": [
    "string Word = (\"Supercalifragilisticexpialidocious\");\n",
    "    int l = Word.Length;      \n",
    "    Console.WriteLine(\"{0}\", l);"
   ]
  },
  {
   "cell_type": "code",
   "execution_count": 2,
   "id": "46078721",
   "metadata": {},
   "outputs": [
    {
     "name": "stdout",
     "output_type": "stream",
     "text": [
      "yes\r\n"
     ]
    }
   ],
   "source": [
    "string Word = (\"Supercalifragilisticexpialidocious\");\n",
    "\n",
    "int l = Word.Length;      \n",
    "\n",
    "//Console.WriteLine(\"{0}\", l);\n",
    "if(Word.Contains(\"ice\"))\n",
    "   Console.WriteLine(\"yes\");\n",
    "else\n",
    "   Console.WriteLine(\"No it does not contain\");"
   ]
  },
  {
   "cell_type": "code",
   "execution_count": 3,
   "id": "d26c0c27",
   "metadata": {},
   "outputs": [
    {
     "name": "stdout",
     "output_type": "stream",
     "text": [
      "Supercalifragilisticexpialidocious is the longest word\r\n"
     ]
    }
   ],
   "source": [
    "string str1 = (\"Supercalifragilisticexpialidocious\");\n",
    "string str2 = (\"Honorificabilitudinitatibus\");\n",
    "string str3 = (\"ababadalgharaghtakamminarronnkonn\");\n",
    "if (str1.Length > str2.Length)\n",
    "    if (str1.Length > str3.Length)\n",
    "        Console.WriteLine(\"{0} is the longest word\", str1);\n",
    "    else\n",
    "        Console.WriteLine(\"{0} is the longest word\", str3);\n",
    "    else if(str2.Length>str3.Length)\n",
    "        Console.WriteLine(\"{0} is the longest word\", str2);\n",
    "    else\n",
    "        Console.WriteLine(\"{0} is the longest word\", str3);"
   ]
  },
  {
   "cell_type": "code",
   "execution_count": 4,
   "id": "d61fbd3c",
   "metadata": {},
   "outputs": [
    {
     "name": "stdout",
     "output_type": "stream",
     "text": [
      "Bartok will come first and Buxtehude will come last\r\n"
     ]
    }
   ],
   "source": [
    "var doctors = new List<string> { \"Berlioz\", \"Borodin\", \"Brian\", \"Bartok\", \"Bellini\", \"Buxtehude\", \"Bernstein\" };\n",
    "    doctors.Sort();\n",
    "    Console.WriteLine(\"{0} will come first and {1} will come last\", doctors[0], doctors[6]);"
   ]
  },
  {
   "cell_type": "code",
   "execution_count": 8,
   "id": "77a308e9",
   "metadata": {},
   "outputs": [
    {
     "name": "stdout",
     "output_type": "stream",
     "text": [
      "enter 1st side of triangle\n",
      "enter 2nd side of triangle\n",
      "enter 3rd side of triangle\n",
      "area is 0\n"
     ]
    }
   ],
   "source": [
    "int val1;                                                       \n",
    "int val2;\n",
    "int val3;\n",
    "float s;\n",
    "double area;\n",
    "Console.WriteLine(\"enter 1st side of triangle\");    \n",
    "string num1 = Console.ReadLine();\n",
    "Console.WriteLine(\"enter 2nd side of triangle\");\n",
    "string num2 = Console.ReadLine();\n",
    "Console.WriteLine(\"enter 3rd side of triangle\");\n",
    "string num3 = Console.ReadLine();                       \n",
    "val1 = Convert.ToInt32(num1);              \n",
    "val2 = Convert.ToInt32(num2);\n",
    "val3 = Convert.ToInt32(num3);\n",
    "s = ((val1 + val2 + val3) / 2);\n",
    "area = Math.Sqrt(s * (s-val1)*(s - val2)*(s - val3));\n",
    "Console.WriteLine(\"area is {0}\", area);"
   ]
  },
  {
   "cell_type": "code",
   "execution_count": 9,
   "id": "d4af27a3",
   "metadata": {},
   "outputs": [
    {
     "name": "stdout",
     "output_type": "stream",
     "text": [
      "25, 47\n",
      "42, 56, 32\n"
     ]
    }
   ],
   "source": [
    "var elements = new List<int> { 25, 47, 42, 56, 32 };          \n",
    "var odd = new List<int> { };\n",
    "var even = new List<int> { };                       \n",
    "for (int i = 0; i < 5; i++)\n",
    "{\n",
    "if (elements[i] % 2 == 1)\n",
    "{\n",
    "odd.Add(elements[i]);                          \n",
    "}\n",
    "else\n",
    "{\n",
    "even.Add(elements[i]);\n",
    "}\n",
    "}\n",
    "Console.WriteLine(string.Join(\", \",odd));\n",
    "Console.WriteLine(string.Join(\", \", even));"
   ]
  },
  {
   "cell_type": "code",
   "execution_count": 10,
   "id": "e0c50549",
   "metadata": {},
   "outputs": [
    {
     "name": "stdout",
     "output_type": "stream",
     "text": [
      "enter X co ordinate of bottom left corner of rectangle\n",
      "enter Y co ordinate of bottom left corner of rectangle\n",
      "enter X co ordinate of top right corner of rectangle\n",
      "enter Y co ordinate of top right corner of rectangle\n",
      "enter X co ordinate of the point\n",
      "enter Y co ordinate of the point\n",
      "lies outside\n"
     ]
    }
   ],
   "source": [
    "int val1;\n",
    "int val2;\n",
    "int val3;\n",
    "int val4;\n",
    "int val5;\n",
    "int val6;\n",
    "Console.WriteLine(\"enter X co ordinate of bottom left corner of rectangle\");\n",
    "string num1 = Console.ReadLine();\n",
    "Console.WriteLine(\"enter Y co ordinate of bottom left corner of rectangle\"); // taking input from the user\n",
    "string num2 = Console.ReadLine();\n",
    "Console.WriteLine(\"enter X co ordinate of top right corner of rectangle\");\n",
    "string num3 = Console.ReadLine();\n",
    "Console.WriteLine(\"enter Y co ordinate of top right corner of rectangle\");\n",
    "string num4 = Console.ReadLine();\n",
    "Console.WriteLine(\"enter X co ordinate of the point\");\n",
    "string num5 = Console.ReadLine();\n",
    "Console.WriteLine(\"enter Y co ordinate of the point\");\n",
    "string num6 = Console.ReadLine();\n",
    "val1 = Convert.ToInt32(num1);                         //converted the numbers taken in actual \"number\"\n",
    "val2 = Convert.ToInt32(num2);\n",
    "val3 = Convert.ToInt32(num3);\n",
    "val4 = Convert.ToInt32(num4);\n",
    "val5 = Convert.ToInt32(num5);\n",
    "val6 = Convert.ToInt32(num6);\n",
    "if (val6 > val2 && val6 < val4)                         //checking the y co ordinates to check if the point is in front of val 2 and behind val4\n",
    "{\n",
    "if (val5 > val1 && val5 < val3)                         //checking the x co ordinate to check if the point is above val1 and below val3 \n",
    "{\n",
    "Console.WriteLine(\"lies inside\");\n",
    "}\n",
    "}\n",
    "else\n",
    "{\n",
    "Console.WriteLine(\"lies outside\");           //if not then its outside\n",
    "}"
   ]
  },
  {
   "cell_type": "code",
   "execution_count": null,
   "id": "76436a10",
   "metadata": {},
   "outputs": [],
   "source": []
  }
 ],
 "metadata": {
  "kernelspec": {
   "display_name": ".NET (C#)",
   "language": "C#",
   "name": ".net-csharp"
  },
  "language_info": {
   "file_extension": ".cs",
   "mimetype": "text/x-csharp",
   "name": "C#",
   "pygments_lexer": "csharp",
   "version": "8.0"
  }
 },
 "nbformat": 4,
 "nbformat_minor": 5
}
